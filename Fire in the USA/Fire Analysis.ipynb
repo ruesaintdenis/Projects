{
 "cells": [
  {
   "cell_type": "code",
   "execution_count": 6,
   "metadata": {},
   "outputs": [],
   "source": [
    "import pandas as pd\n",
    "import numpy as np\n",
    "from scipy.stats import chi2_contingency"
   ]
  },
  {
   "cell_type": "code",
   "execution_count": 3,
   "metadata": {},
   "outputs": [],
   "source": [
    "occurances = pd.DataFrame([[3341, 3384, 3221, 3254, 3210, 3468, 3513],\n",
    "[3166, 3460, 3338, 3259, 3221, 3393, 3424],\n",
    "[3344, 3505, 3462, 3496, 3577, 3656, 3499],\n",
    "[3720, 4117, 3907, 4024, 3788, 4123, 3943],\n",
    "[3717, 4056, 3858, 4014, 3907, 4265, 4078],\n",
    "[3987, 4347, 4249, 4369, 4191, 4162, 4244],\n",
    "[3987, 4178, 4198, 4148, 3995, 4263, 4015]], index = ['2012','2013','2014','2015','2016','2017','2018'], \n",
    "                          columns=['Sunday','Monday','Tuesday','Wednesday','Thursday','Friday','Saturday'])\n"
   ]
  },
  {
   "cell_type": "code",
   "execution_count": 4,
   "metadata": {},
   "outputs": [
    {
     "data": {
      "text/html": [
       "<div>\n",
       "<style scoped>\n",
       "    .dataframe tbody tr th:only-of-type {\n",
       "        vertical-align: middle;\n",
       "    }\n",
       "\n",
       "    .dataframe tbody tr th {\n",
       "        vertical-align: top;\n",
       "    }\n",
       "\n",
       "    .dataframe thead th {\n",
       "        text-align: right;\n",
       "    }\n",
       "</style>\n",
       "<table border=\"1\" class=\"dataframe\">\n",
       "  <thead>\n",
       "    <tr style=\"text-align: right;\">\n",
       "      <th></th>\n",
       "      <th>Sunday</th>\n",
       "      <th>Monday</th>\n",
       "      <th>Tuesday</th>\n",
       "      <th>Wednesday</th>\n",
       "      <th>Thursday</th>\n",
       "      <th>Friday</th>\n",
       "      <th>Saturday</th>\n",
       "    </tr>\n",
       "  </thead>\n",
       "  <tbody>\n",
       "    <tr>\n",
       "      <td>2012</td>\n",
       "      <td>3341</td>\n",
       "      <td>3384</td>\n",
       "      <td>3221</td>\n",
       "      <td>3254</td>\n",
       "      <td>3210</td>\n",
       "      <td>3468</td>\n",
       "      <td>3513</td>\n",
       "    </tr>\n",
       "    <tr>\n",
       "      <td>2013</td>\n",
       "      <td>3166</td>\n",
       "      <td>3460</td>\n",
       "      <td>3338</td>\n",
       "      <td>3259</td>\n",
       "      <td>3221</td>\n",
       "      <td>3393</td>\n",
       "      <td>3424</td>\n",
       "    </tr>\n",
       "    <tr>\n",
       "      <td>2014</td>\n",
       "      <td>3344</td>\n",
       "      <td>3505</td>\n",
       "      <td>3462</td>\n",
       "      <td>3496</td>\n",
       "      <td>3577</td>\n",
       "      <td>3656</td>\n",
       "      <td>3499</td>\n",
       "    </tr>\n",
       "    <tr>\n",
       "      <td>2015</td>\n",
       "      <td>3720</td>\n",
       "      <td>4117</td>\n",
       "      <td>3907</td>\n",
       "      <td>4024</td>\n",
       "      <td>3788</td>\n",
       "      <td>4123</td>\n",
       "      <td>3943</td>\n",
       "    </tr>\n",
       "    <tr>\n",
       "      <td>2016</td>\n",
       "      <td>3717</td>\n",
       "      <td>4056</td>\n",
       "      <td>3858</td>\n",
       "      <td>4014</td>\n",
       "      <td>3907</td>\n",
       "      <td>4265</td>\n",
       "      <td>4078</td>\n",
       "    </tr>\n",
       "    <tr>\n",
       "      <td>2017</td>\n",
       "      <td>3987</td>\n",
       "      <td>4347</td>\n",
       "      <td>4249</td>\n",
       "      <td>4369</td>\n",
       "      <td>4191</td>\n",
       "      <td>4162</td>\n",
       "      <td>4244</td>\n",
       "    </tr>\n",
       "    <tr>\n",
       "      <td>2018</td>\n",
       "      <td>3987</td>\n",
       "      <td>4178</td>\n",
       "      <td>4198</td>\n",
       "      <td>4148</td>\n",
       "      <td>3995</td>\n",
       "      <td>4263</td>\n",
       "      <td>4015</td>\n",
       "    </tr>\n",
       "  </tbody>\n",
       "</table>\n",
       "</div>"
      ],
      "text/plain": [
       "      Sunday  Monday  Tuesday  Wednesday  Thursday  Friday  Saturday\n",
       "2012    3341    3384     3221       3254      3210    3468      3513\n",
       "2013    3166    3460     3338       3259      3221    3393      3424\n",
       "2014    3344    3505     3462       3496      3577    3656      3499\n",
       "2015    3720    4117     3907       4024      3788    4123      3943\n",
       "2016    3717    4056     3858       4014      3907    4265      4078\n",
       "2017    3987    4347     4249       4369      4191    4162      4244\n",
       "2018    3987    4178     4198       4148      3995    4263      4015"
      ]
     },
     "execution_count": 4,
     "metadata": {},
     "output_type": "execute_result"
    }
   ],
   "source": [
    "occurances"
   ]
  },
  {
   "cell_type": "code",
   "execution_count": 10,
   "metadata": {},
   "outputs": [
    {
     "data": {
      "text/plain": [
       "Sunday       3341\n",
       "Monday       3384\n",
       "Tuesday      3221\n",
       "Wednesday    3254\n",
       "Thursday     3210\n",
       "Friday       3468\n",
       "Saturday     3513\n",
       "Name: 2012, dtype: int64"
      ]
     },
     "execution_count": 10,
     "metadata": {},
     "output_type": "execute_result"
    }
   ],
   "source": [
    "occurances.loc['2012']"
   ]
  },
  {
   "cell_type": "code",
   "execution_count": 11,
   "metadata": {},
   "outputs": [
    {
     "data": {
      "text/plain": [
       "(0.0, 1.0, 0, array([3341., 3384., 3221., 3254., 3210., 3468., 3513.]))"
      ]
     },
     "execution_count": 11,
     "metadata": {},
     "output_type": "execute_result"
    }
   ],
   "source": [
    "chi2_contingency(occurances.loc['2012'])"
   ]
  }
 ],
 "metadata": {
  "kernelspec": {
   "display_name": "Python 3",
   "language": "python",
   "name": "python3"
  },
  "language_info": {
   "codemirror_mode": {
    "name": "ipython",
    "version": 3
   },
   "file_extension": ".py",
   "mimetype": "text/x-python",
   "name": "python",
   "nbconvert_exporter": "python",
   "pygments_lexer": "ipython3",
   "version": "3.7.4"
  }
 },
 "nbformat": 4,
 "nbformat_minor": 2
}
