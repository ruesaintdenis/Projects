{
 "cells": [
  {
   "cell_type": "code",
   "execution_count": 2,
   "metadata": {},
   "outputs": [],
   "source": [
    "import json\n",
    "import eia\n",
    "import pandas as pd\n",
    "import numpy as np"
   ]
  },
  {
   "cell_type": "code",
   "execution_count": 96,
   "metadata": {},
   "outputs": [],
   "source": [
    "def retrieve_time_series(api, series_ID):\n",
    "    \"\"\"\n",
    "    Return the time series dataframe, based on API and unique Series ID\n",
    "    \"\"\"\n",
    "    #Retrieve Data By Series ID \n",
    "    series_search = api.data_by_series(series=series_ID)\n",
    "    ##Create a pandas dataframe from the retrieved time series\n",
    "    df = pd.DataFrame(series_search)\n",
    "    return df\n",
    "\n",
    "def main():\n",
    "    \"\"\"\n",
    "    Run main script\n",
    "    \"\"\"\n",
    "    # EIA provides data independently for each state, therefore, we will extract data for each state as a dataframe\n",
    "    # and concatinate based on series and then extract to a CSV \n",
    "    \n",
    "    complete_df = []\n",
    "    states = {\n",
    "        'AK': 'Alaska',\n",
    "        'AL': 'Alabama',\n",
    "        'AR': 'Arkansas',\n",
    "        'AZ': 'Arizona',\n",
    "        'CA': 'California',\n",
    "        'CO': 'Colorado',\n",
    "        'CT': 'Connecticut',\n",
    "        'DC': 'District of Columbia',\n",
    "        'DE': 'Delaware',\n",
    "        'FL': 'Florida',\n",
    "        'GA': 'Georgia',\n",
    "        'HI': 'Hawaii',\n",
    "        'IA': 'Iowa',\n",
    "        'ID': 'Idaho',\n",
    "        'IL': 'Illinois',\n",
    "        'IN': 'Indiana',\n",
    "        'KS': 'Kansas',\n",
    "        'KY': 'Kentucky',\n",
    "        'LA': 'Louisiana',\n",
    "        'MA': 'Massachusetts',\n",
    "        'MD': 'Maryland',\n",
    "        'ME': 'Maine',\n",
    "        'MI': 'Michigan',\n",
    "        'MN': 'Minnesota',\n",
    "        'MO': 'Missouri',\n",
    "        'MS': 'Mississippi',\n",
    "        'MT': 'Montana',\n",
    "        'NC': 'North Carolina',\n",
    "        'ND': 'North Dakota',\n",
    "        'NE': 'Nebraska',\n",
    "        'NH': 'New Hampshire',\n",
    "        'NJ': 'New Jersey',\n",
    "        'NM': 'New Mexico',\n",
    "        'NV': 'Nevada',\n",
    "        'NY': 'New York',\n",
    "        'OH': 'Ohio',\n",
    "        'OK': 'Oklahoma',\n",
    "        'OR': 'Oregon',\n",
    "        'PA': 'Pennsylvania',\n",
    "        'RI': 'Rhode Island',\n",
    "        'SC': 'South Carolina',\n",
    "        'SD': 'South Dakota',\n",
    "        'TN': 'Tennessee',\n",
    "        'TX': 'Texas',\n",
    "        'UT': 'Utah',\n",
    "        'VA': 'Virginia',\n",
    "        'VT': 'Vermont',\n",
    "        'WA': 'Washington',\n",
    "        'WI': 'Wisconsin',\n",
    "        'WV': 'West Virginia',\n",
    "        'WY': 'Wyoming'}\n",
    "    series_dict = {'TEPRB': 'Total energy production (Billion Btu)',  'TETCB': 'Total energy consumption (Billion Btu)',\n",
    "               'CLPRB': 'Total Coal production (Billion Btu)','PAPRB': 'Total Crude Oil production (Billion Btu)',\n",
    "               'NUETB': 'Total Nuclear production (Billion Btu)','NGMPB': 'Total Natural Gas production (Billion Btu)',\n",
    "               'REPRB': 'Total Renewable Energy production (Billion Btu)','TETCD': 'Total energy average price (Dollars per million Btu)'}\n",
    "    #Create EIA API using your specific API key\n",
    "    api_key = \"ef25e28cf1a3fc3ddd65cb1e944bc96b\"\n",
    "    api = eia.API(api_key)\n",
    "    #Declare desired series ID, concatenate state dataframes, extract to CSV, clear the empty df for new series loop\n",
    "    for key, value in series_dict.items(): \n",
    "        for k, v in states.items(): \n",
    "            series_ID='SEDS.'+key+'.'+ k +'.A'\n",
    "            df=retrieve_time_series(api, series_ID)\n",
    "            df.reset_index()\n",
    "            df['State']= v\n",
    "            df.rename(columns={df.columns[0]: value}, inplace = True)\n",
    "            complete_df.append(df)\n",
    "        complete_df = pd.concat(complete_df)\n",
    "        complete_df.to_csv('completed_'+value+'.csv')\n",
    "        complete_df = []\n",
    "\n",
    "\n",
    "if __name__== \"__main__\":\n",
    "    main()"
   ]
  },
  {
   "cell_type": "code",
   "execution_count": 66,
   "metadata": {},
   "outputs": [],
   "source": [
    "data1 = pd.read_csv('total_energy_production.csv')"
   ]
  },
  {
   "cell_type": "code",
   "execution_count": 74,
   "metadata": {},
   "outputs": [],
   "source": [
    "# data1[data1['Year']==2002]"
   ]
  },
  {
   "cell_type": "code",
   "execution_count": 99,
   "metadata": {},
   "outputs": [],
   "source": [
    "series_dict = {'TEPRB': 'Total energy production (Billion Btu)',  'TETCB': 'Total energy consumption (Billion Btu)',\n",
    "               'CLPRB': 'Total Coal production (Billion Btu)','PAPRB': 'Total Crude Oil production (Billion Btu)',\n",
    "               'NUETB': 'Total Nuclear production (Billion Btu)','NGMPB': 'Total Natural Gas production (Billion Btu)',\n",
    "               'REPRB': 'Total Renewable Energy production (Billion Btu)','TETCD': 'Total energy average price (Dollars per million Btu)'}\n",
    "\n",
    "filenames = []\n",
    "for key, value in series_dict.items():\n",
    "    filenames.append('completed_'+value+'.csv')"
   ]
  },
  {
   "cell_type": "code",
   "execution_count": 100,
   "metadata": {},
   "outputs": [
    {
     "data": {
      "text/plain": [
       "['completed_Total energy production (Billion Btu).csv',\n",
       " 'completed_Total energy consumption (Billion Btu).csv',\n",
       " 'completed_Total Coal production (Billion Btu).csv',\n",
       " 'completed_Total Crude Oil production (Billion Btu).csv',\n",
       " 'completed_Total Nuclear production (Billion Btu).csv',\n",
       " 'completed_Total Natural Gas production (Billion Btu).csv',\n",
       " 'completed_Total Renewable Energy production (Billion Btu).csv',\n",
       " 'completed_Total energy average price (Dollars per million Btu).csv']"
      ]
     },
     "execution_count": 100,
     "metadata": {},
     "output_type": "execute_result"
    }
   ],
   "source": [
    "filenames"
   ]
  },
  {
   "cell_type": "code",
   "execution_count": null,
   "metadata": {},
   "outputs": [],
   "source": [
    "'completed_'+value+'.csv'\n",
    "\n",
    "filenames = [\"/Users/Phani/Desktop/sales-jan-2015.csv\",\n",
    "\"/Users/Phani/Desktop/sales-feb-2015.csv\"]\n",
    "dataframes = []\n",
    "for f in filenames:\n",
    "    dataframes.append(pd.read_csv(f))"
   ]
  },
  {
   "cell_type": "code",
   "execution_count": 105,
   "metadata": {},
   "outputs": [
    {
     "ename": "NameError",
     "evalue": "name 'df' is not defined",
     "output_type": "error",
     "traceback": [
      "\u001b[1;31m---------------------------------------------------------------------------\u001b[0m",
      "\u001b[1;31mNameError\u001b[0m                                 Traceback (most recent call last)",
      "\u001b[1;32m<ipython-input-105-72bcc90fd044>\u001b[0m in \u001b[0;36m<module>\u001b[1;34m\u001b[0m\n\u001b[0;32m      4\u001b[0m \u001b[1;33m\u001b[0m\u001b[0m\n\u001b[0;32m      5\u001b[0m \u001b[1;32mfor\u001b[0m \u001b[0mkey\u001b[0m\u001b[1;33m,\u001b[0m \u001b[0mvalue\u001b[0m \u001b[1;32min\u001b[0m \u001b[0mdict_pair\u001b[0m\u001b[1;33m.\u001b[0m\u001b[0mitems\u001b[0m\u001b[1;33m(\u001b[0m\u001b[1;33m)\u001b[0m\u001b[1;33m:\u001b[0m\u001b[1;33m\u001b[0m\u001b[1;33m\u001b[0m\u001b[0m\n\u001b[1;32m----> 6\u001b[1;33m     \u001b[0mdf\u001b[0m\u001b[1;33m[\u001b[0m\u001b[0mkey\u001b[0m\u001b[1;33m]\u001b[0m \u001b[1;33m=\u001b[0m \u001b[0mpd\u001b[0m\u001b[1;33m.\u001b[0m\u001b[0mread_csv\u001b[0m\u001b[1;33m(\u001b[0m\u001b[0mvalue\u001b[0m\u001b[1;33m)\u001b[0m\u001b[1;33m\u001b[0m\u001b[1;33m\u001b[0m\u001b[0m\n\u001b[0m\u001b[0;32m      7\u001b[0m \u001b[1;33m\u001b[0m\u001b[0m\n\u001b[0;32m      8\u001b[0m \u001b[1;31m# full_df = pd.merge()\u001b[0m\u001b[1;33m\u001b[0m\u001b[1;33m\u001b[0m\u001b[1;33m\u001b[0m\u001b[0m\n",
      "\u001b[1;31mNameError\u001b[0m: name 'df' is not defined"
     ]
    }
   ],
   "source": [
    "df_name = ['t_production', 't_consumption', 'coal_p', 'oil_p', 'nuclear_p', 'naturalgas_p', 'renewable_p', 'avg_price']\n",
    "\n",
    "dict_pair = dict(zip(df_name, filenames)) \n",
    "\n",
    "for key, value in dict_pair.items(): \n",
    "    df[key] = pd.read_csv(value)\n",
    "    \n",
    "# full_df = pd.merge()\n",
    "data1.rename(columns={'Unnamed: 0': 'Year'})"
   ]
  },
  {
   "cell_type": "code",
   "execution_count": 113,
   "metadata": {},
   "outputs": [],
   "source": [
    "t_production = pd.read_csv('completed_Total energy production (Billion Btu).csv')\n",
    "t_production = t_production.rename(columns={'Unnamed: 0': 'Year'})\n",
    "t_production['ID'] = t_production['Year'].astype(str) + t_production['State']\n",
    "\n",
    "t_consumption = pd.read_csv('completed_Total energy consumption (Billion Btu).csv')\n",
    "t_consumption = t_consumption.rename(columns={'Unnamed: 0': 'Year'})\n",
    "t_consumption['ID'] = t_consumption['Year'].astype(str) + t_consumption['State']\n",
    "\n",
    "coal_p = pd.read_csv('completed_Total Coal production (Billion Btu).csv')\n",
    "coal_p = coal_p.rename(columns={'Unnamed: 0': 'Year'})\n",
    "coal_p['ID'] = coal_p['Year'].astype(str) + coal_p['State']\n",
    "\n",
    "oil_p = pd.read_csv('completed_Total Crude Oil production (Billion Btu).csv')\n",
    "oil_p = oil_p.rename(columns={'Unnamed: 0': 'Year'})\n",
    "oil_p['ID'] = oil_p['Year'].astype(str) + oil_p['State']\n",
    "\n",
    "nuclear_p = pd.read_csv('completed_Total Nuclear production (Billion Btu).csv')\n",
    "nuclear_p = nuclear_p.rename(columns={'Unnamed: 0': 'Year'})\n",
    "nuclear_p['ID'] = nuclear_p['Year'].astype(str) + nuclear_p['State']\n",
    "\n",
    "naturalgas_p = pd.read_csv('completed_Total Natural Gas production (Billion Btu).csv')\n",
    "naturalgas_p = naturalgas_p.rename(columns={'Unnamed: 0': 'Year'})\n",
    "naturalgas_p['ID'] = naturalgas_p['Year'].astype(str) + naturalgas_p['State']\n",
    "\n",
    "renewable_p = pd.read_csv('completed_Total Renewable Energy production (Billion Btu).csv')\n",
    "renewable_p = renewable_p.rename(columns={'Unnamed: 0': 'Year'})\n",
    "renewable_p['ID'] = renewable_p['Year'].astype(str) + renewable_p['State']\n",
    "\n",
    "avg_price = pd.read_csv('completed_Total energy average price (Dollars per million Btu).csv')\n",
    "avg_price = avg_price.rename(columns={'Unnamed: 0': 'Year'})\n",
    "avg_price['ID'] = avg_price['Year'].astype(str) + avg_price['State']\n"
   ]
  },
  {
   "cell_type": "code",
   "execution_count": 122,
   "metadata": {},
   "outputs": [],
   "source": [
    "full_df= t_production.merge(t_consumption).merge(coal_p).merge(oil_p).merge(nuclear_p).merge(naturalgas_p).merge(renewable_p).merge(avg_price)"
   ]
  },
  {
   "cell_type": "code",
   "execution_count": 130,
   "metadata": {},
   "outputs": [],
   "source": [
    "full_df \n",
    "full_df.to_csv('Energy_Analysis.csv')"
   ]
  },
  {
   "cell_type": "code",
   "execution_count": 136,
   "metadata": {},
   "outputs": [
    {
     "data": {
      "text/plain": [
       "51"
      ]
     },
     "execution_count": 136,
     "metadata": {},
     "output_type": "execute_result"
    }
   ],
   "source": [
    "full_df['State'].unique().size"
   ]
  },
  {
   "cell_type": "code",
   "execution_count": 128,
   "metadata": {},
   "outputs": [],
   "source": [
    "full_df = full_df.drop(['ID'], axis=1)"
   ]
  }
 ],
 "metadata": {
  "kernelspec": {
   "display_name": "Python 3",
   "language": "python",
   "name": "python3"
  },
  "language_info": {
   "codemirror_mode": {
    "name": "ipython",
    "version": 3
   },
   "file_extension": ".py",
   "mimetype": "text/x-python",
   "name": "python",
   "nbconvert_exporter": "python",
   "pygments_lexer": "ipython3",
   "version": "3.7.4"
  }
 },
 "nbformat": 4,
 "nbformat_minor": 2
}
